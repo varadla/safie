{
 "cells": [
  {
   "cell_type": "markdown",
   "metadata": {},
   "source": [
    "1 - Kullanıcıdan input ile iki veri alın. Bu veriler tamsayı ise çarpımını yazdırın. "
   ]
  },
  {
   "cell_type": "code",
   "execution_count": 1,
   "metadata": {},
   "outputs": [
    {
     "name": "stdout",
     "output_type": "stream",
     "text": [
      "16 * 6 = 96\n"
     ]
    }
   ],
   "source": [
    "veriler = input(\"Veriler tam sayi ise carpimini yazdirin\")\n",
    "veri1 = int(input(\"Ilk veri\"))\n",
    "veri2 = int(input(\"Ikin ci veri\"))\n",
    "toplam = veri1 * veri2\n",
    "print(veri1,\"*\",veri2,\"=\", toplam)"
   ]
  },
  {
   "cell_type": "markdown",
   "metadata": {},
   "source": [
    "2 - Kullanıcıdan bir sayı isteyin. Sayı tek ise 2 katını çift ise karesini yazdırın. "
   ]
  },
  {
   "cell_type": "code",
   "execution_count": 51,
   "metadata": {},
   "outputs": [
    {
     "name": "stdout",
     "output_type": "stream",
     "text": [
      "girilen_sayi cift ise karesini yazdir\n",
      "sonuc\n"
     ]
    }
   ],
   "source": [
    "girilen_sayi = int(input(\"bir sayi giriniz: \"))\n",
    "if girilen_sayi % 2 == 0:\n",
    "    print(\"girilen_sayi cift ise karesini yazdir\") \n",
    "if  ((girilen_sayi % 2 == 0) * (girilen_sayi % 2 == 0)):\n",
    "\n",
    "    print(\"sonuc\")\n",
    "\n",
    "else:\n",
    "    print(\"girilen_sayi tek ise 2 katini yazdir\")"
   ]
  },
  {
   "cell_type": "markdown",
   "metadata": {},
   "source": [
    "3 - Kullanıcıdan iki tam sayı isteyin. Sayılar eşitse veya sayıların farkı 5 in katı ise True döndüren algoritmayı yazın. Aksi taktirde False çıktısı almalısınız"
   ]
  },
  {
   "cell_type": "code",
   "execution_count": 85,
   "metadata": {},
   "outputs": [
    {
     "name": "stdout",
     "output_type": "stream",
     "text": [
      "True\n"
     ]
    }
   ],
   "source": [
    "sayi_1 = 6\n",
    "sayi_2 = 8\n",
    "\n",
    "if sayi_1 == 6 and sayi_2 == 8:\n",
    "    print(\"True\")\n",
    "else:\n",
    "    print(\"False\")"
   ]
  },
  {
   "cell_type": "markdown",
   "metadata": {},
   "source": [
    "4 - Kullanıcıya sınavdan aldığı notu sorunuz. Denk gelen Harf notunu yazdırın. 0-100 aralığı        dışında girilen notların geçersiz olduğuu belirtmeyi unutmayın. \n",
    "    80 - 100 aralığı \"A\",\n",
    "    65 - 79 aralığı \"B\",\n",
    "    55 - 64 aralığı \"C\",\n",
    "    35 - 54 aralığı \"D\",\n",
    "    0 - 34 aralığı \"F\""
   ]
  },
  {
   "cell_type": "code",
   "execution_count": 86,
   "metadata": {},
   "outputs": [
    {
     "name": "stdout",
     "output_type": "stream",
     "text": [
      "not_1 = A\n"
     ]
    }
   ],
   "source": [
    "not_1 = float(input(\"A.not: \"))\n",
    "not_2 = float(input(\"B.not: \"))\n",
    "not_3 = float(input(\"C.not: \"))\n",
    "not_4 = float(input(\"D.not: \"))\n",
    "not_5 = float(input(\"F.not: \"))\n",
    "\n",
    "if not_1 >= 80-100:\n",
    "    print(\"not_1 = A\")\n",
    "elif not_2 >= 65-79:\n",
    "    print(\"not_2 = B\")\n",
    "elif not_3 >= 55-64:\n",
    "    print(\"not_3 = C\")\n",
    "elif not_4 >= 35-54:\n",
    "    print(\"not_4 = D\")\n",
    "elif not_5 >= 0-34:\n",
    "    print(\"not_5 = F\")\n",
    "else:\n",
    "    print(\"0-100 araligi notlar gecersiz\")"
   ]
  },
  {
   "cell_type": "markdown",
   "metadata": {},
   "source": [
    "5 - Kullanıcıdan bir saniye değeri girmesini isteyin. girilen saniyeyi saat dakika ve sn cinsinden yazdırın. \n",
    "örn: 19520 sn >> 5 saat, 25 dk, 20 saniye "
   ]
  },
  {
   "cell_type": "code",
   "execution_count": 52,
   "metadata": {},
   "outputs": [
    {
     "name": "stdout",
     "output_type": "stream",
     "text": [
      "3:20:31\n"
     ]
    }
   ],
   "source": [
    "saniye = 12680\n",
    "girilen_saniye = int(input(\"Saniyeyi girin: \"))\n",
    "saniye = girilen_saniye % 60\n",
    "saat = (girilen_saniye // 60) // 60\n",
    "dakika = (girilen_saniye // 60) % 60\n",
    "print(saat,saniye,dakika,sep=\":\")\n",
    "\n"
   ]
  }
 ],
 "metadata": {
  "kernelspec": {
   "display_name": "base",
   "language": "python",
   "name": "python3"
  },
  "language_info": {
   "codemirror_mode": {
    "name": "ipython",
    "version": 3
   },
   "file_extension": ".py",
   "mimetype": "text/x-python",
   "name": "python",
   "nbconvert_exporter": "python",
   "pygments_lexer": "ipython3",
   "version": "3.11.7"
  },
  "orig_nbformat": 4
 },
 "nbformat": 4,
 "nbformat_minor": 2
}
