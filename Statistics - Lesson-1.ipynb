{
 "cells": [
  {
   "cell_type": "markdown",
   "id": "e58a07e6",
   "metadata": {},
   "source": [
    "# Statistics Intro"
   ]
  },
  {
   "cell_type": "code",
   "execution_count": 1,
   "id": "c972d1fa",
   "metadata": {},
   "outputs": [],
   "source": [
    "### https://github.com/mwaskom/seaborn-data    \n",
    "# seaborn data seti "
   ]
  },
  {
   "cell_type": "code",
   "execution_count": 2,
   "id": "d52cb553",
   "metadata": {},
   "outputs": [
    {
     "name": "stdout",
     "output_type": "stream",
     "text": [
      "Requirement already satisfied: seaborn in c:\\users\\safiy\\appdata\\local\\programs\\python\\python312\\lib\\site-packages (0.13.2)\n",
      "Requirement already satisfied: numpy!=1.24.0,>=1.20 in c:\\users\\safiy\\appdata\\local\\programs\\python\\python312\\lib\\site-packages (from seaborn) (1.26.4)\n",
      "Requirement already satisfied: pandas>=1.2 in c:\\users\\safiy\\appdata\\local\\programs\\python\\python312\\lib\\site-packages (from seaborn) (2.2.1)\n",
      "Requirement already satisfied: matplotlib!=3.6.1,>=3.4 in c:\\users\\safiy\\appdata\\local\\programs\\python\\python312\\lib\\site-packages (from seaborn) (3.8.3)\n",
      "Requirement already satisfied: contourpy>=1.0.1 in c:\\users\\safiy\\appdata\\local\\programs\\python\\python312\\lib\\site-packages (from matplotlib!=3.6.1,>=3.4->seaborn) (1.2.0)\n",
      "Requirement already satisfied: cycler>=0.10 in c:\\users\\safiy\\appdata\\local\\programs\\python\\python312\\lib\\site-packages (from matplotlib!=3.6.1,>=3.4->seaborn) (0.12.1)\n",
      "Requirement already satisfied: fonttools>=4.22.0 in c:\\users\\safiy\\appdata\\local\\programs\\python\\python312\\lib\\site-packages (from matplotlib!=3.6.1,>=3.4->seaborn) (4.49.0)\n",
      "Requirement already satisfied: kiwisolver>=1.3.1 in c:\\users\\safiy\\appdata\\local\\programs\\python\\python312\\lib\\site-packages (from matplotlib!=3.6.1,>=3.4->seaborn) (1.4.5)\n",
      "Requirement already satisfied: packaging>=20.0 in c:\\users\\safiy\\appdata\\roaming\\python\\python312\\site-packages (from matplotlib!=3.6.1,>=3.4->seaborn) (23.2)\n",
      "Requirement already satisfied: pillow>=8 in c:\\users\\safiy\\appdata\\local\\programs\\python\\python312\\lib\\site-packages (from matplotlib!=3.6.1,>=3.4->seaborn) (10.2.0)\n",
      "Requirement already satisfied: pyparsing>=2.3.1 in c:\\users\\safiy\\appdata\\local\\programs\\python\\python312\\lib\\site-packages (from matplotlib!=3.6.1,>=3.4->seaborn) (3.1.1)\n",
      "Requirement already satisfied: python-dateutil>=2.7 in c:\\users\\safiy\\appdata\\roaming\\python\\python312\\site-packages (from matplotlib!=3.6.1,>=3.4->seaborn) (2.8.2)\n",
      "Requirement already satisfied: pytz>=2020.1 in c:\\users\\safiy\\appdata\\local\\programs\\python\\python312\\lib\\site-packages (from pandas>=1.2->seaborn) (2024.1)\n",
      "Requirement already satisfied: tzdata>=2022.7 in c:\\users\\safiy\\appdata\\local\\programs\\python\\python312\\lib\\site-packages (from pandas>=1.2->seaborn) (2024.1)\n",
      "Requirement already satisfied: six>=1.5 in c:\\users\\safiy\\appdata\\roaming\\python\\python312\\site-packages (from python-dateutil>=2.7->matplotlib!=3.6.1,>=3.4->seaborn) (1.16.0)\n",
      "Note: you may need to restart the kernel to use updated packages.\n"
     ]
    },
    {
     "name": "stderr",
     "output_type": "stream",
     "text": [
      "\n",
      "[notice] A new release of pip is available: 23.2.1 -> 24.0\n",
      "[notice] To update, run: python.exe -m pip install --upgrade pip\n"
     ]
    }
   ],
   "source": [
    "%pip install seaborn"
   ]
  },
  {
   "cell_type": "code",
   "execution_count": 3,
   "id": "86acd55a",
   "metadata": {
    "ExecuteTime": {
     "end_time": "2023-04-18T21:25:39.575074Z",
     "start_time": "2023-04-18T21:25:39.564667Z"
    }
   },
   "outputs": [],
   "source": [
    "import seaborn as sns"
   ]
  },
  {
   "cell_type": "code",
   "execution_count": 4,
   "id": "12be3b52",
   "metadata": {
    "ExecuteTime": {
     "end_time": "2023-04-18T21:25:53.683575Z",
     "start_time": "2023-04-18T21:25:53.673031Z"
    }
   },
   "outputs": [],
   "source": [
    "import pandas as pd"
   ]
  },
  {
   "cell_type": "code",
   "execution_count": 5,
   "id": "707364bd",
   "metadata": {
    "ExecuteTime": {
     "end_time": "2023-04-18T21:22:24.940442Z",
     "start_time": "2023-04-18T21:22:24.005224Z"
    }
   },
   "outputs": [
    {
     "data": {
      "text/plain": [
       "['anagrams',\n",
       " 'anscombe',\n",
       " 'attention',\n",
       " 'brain_networks',\n",
       " 'car_crashes',\n",
       " 'diamonds',\n",
       " 'dots',\n",
       " 'dowjones',\n",
       " 'exercise',\n",
       " 'flights',\n",
       " 'fmri',\n",
       " 'geyser',\n",
       " 'glue',\n",
       " 'healthexp',\n",
       " 'iris',\n",
       " 'mpg',\n",
       " 'penguins',\n",
       " 'planets',\n",
       " 'seaice',\n",
       " 'taxis',\n",
       " 'tips',\n",
       " 'titanic']"
      ]
     },
     "execution_count": 5,
     "metadata": {},
     "output_type": "execute_result"
    }
   ],
   "source": [
    "sns.get_dataset_names()   #data setlerinin isimleeini gorelim"
   ]
  },
  {
   "cell_type": "code",
   "execution_count": 6,
   "id": "3bc938a8",
   "metadata": {
    "ExecuteTime": {
     "end_time": "2023-04-18T21:23:24.466966Z",
     "start_time": "2023-04-18T21:23:24.415658Z"
    }
   },
   "outputs": [],
   "source": [
    "df = sns.load_dataset(\"mpg\")   #data setini cekmek için"
   ]
  },
  {
   "cell_type": "code",
   "execution_count": 7,
   "id": "e6086117",
   "metadata": {
    "ExecuteTime": {
     "end_time": "2023-04-18T21:23:42.563540Z",
     "start_time": "2023-04-18T21:23:42.507747Z"
    }
   },
   "outputs": [
    {
     "data": {
      "text/html": [
       "<div>\n",
       "<style scoped>\n",
       "    .dataframe tbody tr th:only-of-type {\n",
       "        vertical-align: middle;\n",
       "    }\n",
       "\n",
       "    .dataframe tbody tr th {\n",
       "        vertical-align: top;\n",
       "    }\n",
       "\n",
       "    .dataframe thead th {\n",
       "        text-align: right;\n",
       "    }\n",
       "</style>\n",
       "<table border=\"1\" class=\"dataframe\">\n",
       "  <thead>\n",
       "    <tr style=\"text-align: right;\">\n",
       "      <th></th>\n",
       "      <th>mpg</th>\n",
       "      <th>cylinders</th>\n",
       "      <th>displacement</th>\n",
       "      <th>horsepower</th>\n",
       "      <th>weight</th>\n",
       "      <th>acceleration</th>\n",
       "      <th>model_year</th>\n",
       "      <th>origin</th>\n",
       "      <th>name</th>\n",
       "    </tr>\n",
       "  </thead>\n",
       "  <tbody>\n",
       "    <tr>\n",
       "      <th>0</th>\n",
       "      <td>18.0</td>\n",
       "      <td>8</td>\n",
       "      <td>307.0</td>\n",
       "      <td>130.0</td>\n",
       "      <td>3504</td>\n",
       "      <td>12.0</td>\n",
       "      <td>70</td>\n",
       "      <td>usa</td>\n",
       "      <td>chevrolet chevelle malibu</td>\n",
       "    </tr>\n",
       "    <tr>\n",
       "      <th>1</th>\n",
       "      <td>15.0</td>\n",
       "      <td>8</td>\n",
       "      <td>350.0</td>\n",
       "      <td>165.0</td>\n",
       "      <td>3693</td>\n",
       "      <td>11.5</td>\n",
       "      <td>70</td>\n",
       "      <td>usa</td>\n",
       "      <td>buick skylark 320</td>\n",
       "    </tr>\n",
       "    <tr>\n",
       "      <th>2</th>\n",
       "      <td>18.0</td>\n",
       "      <td>8</td>\n",
       "      <td>318.0</td>\n",
       "      <td>150.0</td>\n",
       "      <td>3436</td>\n",
       "      <td>11.0</td>\n",
       "      <td>70</td>\n",
       "      <td>usa</td>\n",
       "      <td>plymouth satellite</td>\n",
       "    </tr>\n",
       "    <tr>\n",
       "      <th>3</th>\n",
       "      <td>16.0</td>\n",
       "      <td>8</td>\n",
       "      <td>304.0</td>\n",
       "      <td>150.0</td>\n",
       "      <td>3433</td>\n",
       "      <td>12.0</td>\n",
       "      <td>70</td>\n",
       "      <td>usa</td>\n",
       "      <td>amc rebel sst</td>\n",
       "    </tr>\n",
       "    <tr>\n",
       "      <th>4</th>\n",
       "      <td>17.0</td>\n",
       "      <td>8</td>\n",
       "      <td>302.0</td>\n",
       "      <td>140.0</td>\n",
       "      <td>3449</td>\n",
       "      <td>10.5</td>\n",
       "      <td>70</td>\n",
       "      <td>usa</td>\n",
       "      <td>ford torino</td>\n",
       "    </tr>\n",
       "  </tbody>\n",
       "</table>\n",
       "</div>"
      ],
      "text/plain": [
       "    mpg  cylinders  displacement  horsepower  weight  acceleration  \\\n",
       "0  18.0          8         307.0       130.0    3504          12.0   \n",
       "1  15.0          8         350.0       165.0    3693          11.5   \n",
       "2  18.0          8         318.0       150.0    3436          11.0   \n",
       "3  16.0          8         304.0       150.0    3433          12.0   \n",
       "4  17.0          8         302.0       140.0    3449          10.5   \n",
       "\n",
       "   model_year origin                       name  \n",
       "0          70    usa  chevrolet chevelle malibu  \n",
       "1          70    usa          buick skylark 320  \n",
       "2          70    usa         plymouth satellite  \n",
       "3          70    usa              amc rebel sst  \n",
       "4          70    usa                ford torino  "
      ]
     },
     "execution_count": 7,
     "metadata": {},
     "output_type": "execute_result"
    }
   ],
   "source": [
    "df.head()"
   ]
  },
  {
   "cell_type": "code",
   "execution_count": 8,
   "id": "b1e76952",
   "metadata": {
    "ExecuteTime": {
     "end_time": "2023-04-18T21:26:24.803765Z",
     "start_time": "2023-04-18T21:26:24.793201Z"
    }
   },
   "outputs": [
    {
     "data": {
      "text/plain": [
       "(398, 9)"
      ]
     },
     "execution_count": 8,
     "metadata": {},
     "output_type": "execute_result"
    }
   ],
   "source": [
    "df.shape"
   ]
  },
  {
   "cell_type": "code",
   "execution_count": 9,
   "id": "4fbbeba3",
   "metadata": {
    "ExecuteTime": {
     "end_time": "2023-04-18T21:26:46.404033Z",
     "start_time": "2023-04-18T21:26:46.393193Z"
    }
   },
   "outputs": [
    {
     "data": {
      "text/plain": [
       "Index(['mpg', 'cylinders', 'displacement', 'horsepower', 'weight',\n",
       "       'acceleration', 'model_year', 'origin', 'name'],\n",
       "      dtype='object')"
      ]
     },
     "execution_count": 9,
     "metadata": {},
     "output_type": "execute_result"
    }
   ],
   "source": [
    "df.columns"
   ]
  },
  {
   "cell_type": "code",
   "execution_count": 10,
   "id": "b4f11498",
   "metadata": {
    "ExecuteTime": {
     "end_time": "2023-04-18T21:27:13.579555Z",
     "start_time": "2023-04-18T21:27:13.516708Z"
    }
   },
   "outputs": [
    {
     "name": "stdout",
     "output_type": "stream",
     "text": [
      "<class 'pandas.core.frame.DataFrame'>\n",
      "RangeIndex: 398 entries, 0 to 397\n",
      "Data columns (total 9 columns):\n",
      " #   Column        Non-Null Count  Dtype  \n",
      "---  ------        --------------  -----  \n",
      " 0   mpg           398 non-null    float64\n",
      " 1   cylinders     398 non-null    int64  \n",
      " 2   displacement  398 non-null    float64\n",
      " 3   horsepower    392 non-null    float64\n",
      " 4   weight        398 non-null    int64  \n",
      " 5   acceleration  398 non-null    float64\n",
      " 6   model_year    398 non-null    int64  \n",
      " 7   origin        398 non-null    object \n",
      " 8   name          398 non-null    object \n",
      "dtypes: float64(4), int64(3), object(2)\n",
      "memory usage: 28.1+ KB\n"
     ]
    }
   ],
   "source": [
    "df.info()"
   ]
  },
  {
   "cell_type": "code",
   "execution_count": 11,
   "id": "9bb3cfdb",
   "metadata": {
    "ExecuteTime": {
     "end_time": "2023-04-18T21:28:40.576362Z",
     "start_time": "2023-04-18T21:28:40.562575Z"
    }
   },
   "outputs": [
    {
     "data": {
      "text/html": [
       "<div>\n",
       "<style scoped>\n",
       "    .dataframe tbody tr th:only-of-type {\n",
       "        vertical-align: middle;\n",
       "    }\n",
       "\n",
       "    .dataframe tbody tr th {\n",
       "        vertical-align: top;\n",
       "    }\n",
       "\n",
       "    .dataframe thead th {\n",
       "        text-align: right;\n",
       "    }\n",
       "</style>\n",
       "<table border=\"1\" class=\"dataframe\">\n",
       "  <thead>\n",
       "    <tr style=\"text-align: right;\">\n",
       "      <th></th>\n",
       "      <th>origin</th>\n",
       "      <th>name</th>\n",
       "    </tr>\n",
       "  </thead>\n",
       "  <tbody>\n",
       "    <tr>\n",
       "      <th>0</th>\n",
       "      <td>usa</td>\n",
       "      <td>chevrolet chevelle malibu</td>\n",
       "    </tr>\n",
       "    <tr>\n",
       "      <th>1</th>\n",
       "      <td>usa</td>\n",
       "      <td>buick skylark 320</td>\n",
       "    </tr>\n",
       "    <tr>\n",
       "      <th>2</th>\n",
       "      <td>usa</td>\n",
       "      <td>plymouth satellite</td>\n",
       "    </tr>\n",
       "    <tr>\n",
       "      <th>3</th>\n",
       "      <td>usa</td>\n",
       "      <td>amc rebel sst</td>\n",
       "    </tr>\n",
       "    <tr>\n",
       "      <th>4</th>\n",
       "      <td>usa</td>\n",
       "      <td>ford torino</td>\n",
       "    </tr>\n",
       "    <tr>\n",
       "      <th>...</th>\n",
       "      <td>...</td>\n",
       "      <td>...</td>\n",
       "    </tr>\n",
       "    <tr>\n",
       "      <th>393</th>\n",
       "      <td>usa</td>\n",
       "      <td>ford mustang gl</td>\n",
       "    </tr>\n",
       "    <tr>\n",
       "      <th>394</th>\n",
       "      <td>europe</td>\n",
       "      <td>vw pickup</td>\n",
       "    </tr>\n",
       "    <tr>\n",
       "      <th>395</th>\n",
       "      <td>usa</td>\n",
       "      <td>dodge rampage</td>\n",
       "    </tr>\n",
       "    <tr>\n",
       "      <th>396</th>\n",
       "      <td>usa</td>\n",
       "      <td>ford ranger</td>\n",
       "    </tr>\n",
       "    <tr>\n",
       "      <th>397</th>\n",
       "      <td>usa</td>\n",
       "      <td>chevy s-10</td>\n",
       "    </tr>\n",
       "  </tbody>\n",
       "</table>\n",
       "<p>398 rows × 2 columns</p>\n",
       "</div>"
      ],
      "text/plain": [
       "     origin                       name\n",
       "0       usa  chevrolet chevelle malibu\n",
       "1       usa          buick skylark 320\n",
       "2       usa         plymouth satellite\n",
       "3       usa              amc rebel sst\n",
       "4       usa                ford torino\n",
       "..      ...                        ...\n",
       "393     usa            ford mustang gl\n",
       "394  europe                  vw pickup\n",
       "395     usa              dodge rampage\n",
       "396     usa                ford ranger\n",
       "397     usa                 chevy s-10\n",
       "\n",
       "[398 rows x 2 columns]"
      ]
     },
     "execution_count": 11,
     "metadata": {},
     "output_type": "execute_result"
    }
   ],
   "source": [
    "df.select_dtypes(include=[\"object\"])    #sadece object type olanları getir"
   ]
  },
  {
   "cell_type": "code",
   "execution_count": 12,
   "id": "c8388782",
   "metadata": {
    "ExecuteTime": {
     "end_time": "2023-04-18T21:29:49.000161Z",
     "start_time": "2023-04-18T21:29:48.968266Z"
    }
   },
   "outputs": [
    {
     "data": {
      "text/plain": [
       "mpg             129\n",
       "cylinders         5\n",
       "displacement     82\n",
       "horsepower       93\n",
       "weight          351\n",
       "acceleration     95\n",
       "model_year       13\n",
       "origin            3\n",
       "name            305\n",
       "dtype: int64"
      ]
     },
     "execution_count": 12,
     "metadata": {},
     "output_type": "execute_result"
    }
   ],
   "source": [
    "df.nunique(axis=0)    #unique degerleri gorelim"
   ]
  },
  {
   "cell_type": "code",
   "execution_count": 13,
   "id": "e5a076aa",
   "metadata": {
    "ExecuteTime": {
     "end_time": "2023-04-18T21:31:15.309480Z",
     "start_time": "2023-04-18T21:31:15.259616Z"
    }
   },
   "outputs": [
    {
     "data": {
      "text/html": [
       "<div>\n",
       "<style scoped>\n",
       "    .dataframe tbody tr th:only-of-type {\n",
       "        vertical-align: middle;\n",
       "    }\n",
       "\n",
       "    .dataframe tbody tr th {\n",
       "        vertical-align: top;\n",
       "    }\n",
       "\n",
       "    .dataframe thead th {\n",
       "        text-align: right;\n",
       "    }\n",
       "</style>\n",
       "<table border=\"1\" class=\"dataframe\">\n",
       "  <thead>\n",
       "    <tr style=\"text-align: right;\">\n",
       "      <th></th>\n",
       "      <th>mpg</th>\n",
       "      <th>cylinders</th>\n",
       "      <th>displacement</th>\n",
       "      <th>horsepower</th>\n",
       "      <th>weight</th>\n",
       "      <th>acceleration</th>\n",
       "      <th>model_year</th>\n",
       "    </tr>\n",
       "  </thead>\n",
       "  <tbody>\n",
       "    <tr>\n",
       "      <th>count</th>\n",
       "      <td>398.000000</td>\n",
       "      <td>398.000000</td>\n",
       "      <td>398.000000</td>\n",
       "      <td>392.000000</td>\n",
       "      <td>398.000000</td>\n",
       "      <td>398.000000</td>\n",
       "      <td>398.000000</td>\n",
       "    </tr>\n",
       "    <tr>\n",
       "      <th>mean</th>\n",
       "      <td>23.514573</td>\n",
       "      <td>5.454774</td>\n",
       "      <td>193.425879</td>\n",
       "      <td>104.469388</td>\n",
       "      <td>2970.424623</td>\n",
       "      <td>15.568090</td>\n",
       "      <td>76.010050</td>\n",
       "    </tr>\n",
       "    <tr>\n",
       "      <th>std</th>\n",
       "      <td>7.815984</td>\n",
       "      <td>1.701004</td>\n",
       "      <td>104.269838</td>\n",
       "      <td>38.491160</td>\n",
       "      <td>846.841774</td>\n",
       "      <td>2.757689</td>\n",
       "      <td>3.697627</td>\n",
       "    </tr>\n",
       "    <tr>\n",
       "      <th>min</th>\n",
       "      <td>9.000000</td>\n",
       "      <td>3.000000</td>\n",
       "      <td>68.000000</td>\n",
       "      <td>46.000000</td>\n",
       "      <td>1613.000000</td>\n",
       "      <td>8.000000</td>\n",
       "      <td>70.000000</td>\n",
       "    </tr>\n",
       "    <tr>\n",
       "      <th>25%</th>\n",
       "      <td>17.500000</td>\n",
       "      <td>4.000000</td>\n",
       "      <td>104.250000</td>\n",
       "      <td>75.000000</td>\n",
       "      <td>2223.750000</td>\n",
       "      <td>13.825000</td>\n",
       "      <td>73.000000</td>\n",
       "    </tr>\n",
       "    <tr>\n",
       "      <th>50%</th>\n",
       "      <td>23.000000</td>\n",
       "      <td>4.000000</td>\n",
       "      <td>148.500000</td>\n",
       "      <td>93.500000</td>\n",
       "      <td>2803.500000</td>\n",
       "      <td>15.500000</td>\n",
       "      <td>76.000000</td>\n",
       "    </tr>\n",
       "    <tr>\n",
       "      <th>75%</th>\n",
       "      <td>29.000000</td>\n",
       "      <td>8.000000</td>\n",
       "      <td>262.000000</td>\n",
       "      <td>126.000000</td>\n",
       "      <td>3608.000000</td>\n",
       "      <td>17.175000</td>\n",
       "      <td>79.000000</td>\n",
       "    </tr>\n",
       "    <tr>\n",
       "      <th>max</th>\n",
       "      <td>46.600000</td>\n",
       "      <td>8.000000</td>\n",
       "      <td>455.000000</td>\n",
       "      <td>230.000000</td>\n",
       "      <td>5140.000000</td>\n",
       "      <td>24.800000</td>\n",
       "      <td>82.000000</td>\n",
       "    </tr>\n",
       "  </tbody>\n",
       "</table>\n",
       "</div>"
      ],
      "text/plain": [
       "              mpg   cylinders  displacement  horsepower       weight  \\\n",
       "count  398.000000  398.000000    398.000000  392.000000   398.000000   \n",
       "mean    23.514573    5.454774    193.425879  104.469388  2970.424623   \n",
       "std      7.815984    1.701004    104.269838   38.491160   846.841774   \n",
       "min      9.000000    3.000000     68.000000   46.000000  1613.000000   \n",
       "25%     17.500000    4.000000    104.250000   75.000000  2223.750000   \n",
       "50%     23.000000    4.000000    148.500000   93.500000  2803.500000   \n",
       "75%     29.000000    8.000000    262.000000  126.000000  3608.000000   \n",
       "max     46.600000    8.000000    455.000000  230.000000  5140.000000   \n",
       "\n",
       "       acceleration  model_year  \n",
       "count    398.000000  398.000000  \n",
       "mean      15.568090   76.010050  \n",
       "std        2.757689    3.697627  \n",
       "min        8.000000   70.000000  \n",
       "25%       13.825000   73.000000  \n",
       "50%       15.500000   76.000000  \n",
       "75%       17.175000   79.000000  \n",
       "max       24.800000   82.000000  "
      ]
     },
     "execution_count": 13,
     "metadata": {},
     "output_type": "execute_result"
    }
   ],
   "source": [
    "df.describe()   #descriptive statistics bilgileri görelım"
   ]
  },
  {
   "cell_type": "markdown",
   "id": "99a06423",
   "metadata": {},
   "source": [
    "# Population and Sample"
   ]
  },
  {
   "cell_type": "code",
   "execution_count": null,
   "id": "4b1780ed",
   "metadata": {},
   "outputs": [
    {
     "name": "stdout",
     "output_type": "stream",
     "text": [
      "^C\n",
      "Note: you may need to restart the kernel to use updated packages.\n"
     ]
    },
    {
     "name": "stderr",
     "output_type": "stream",
     "text": [
      "\n",
      "[notice] A new release of pip is available: 23.2.1 -> 24.0\n",
      "[notice] To update, run: python.exe -m pip install --upgrade pip\n"
     ]
    },
    {
     "name": "stdout",
     "output_type": "stream",
     "text": [
      "Collecting scipy\n",
      "  Obtaining dependency information for scipy from https://files.pythonhosted.org/packages/f3/31/91a2a3c5eb85d2bfa86d7c98f2df5d77dcdefb3d80ca9f9037ad04393acf/scipy-1.12.0-cp312-cp312-win_amd64.whl.metadata\n",
      "  Downloading scipy-1.12.0-cp312-cp312-win_amd64.whl.metadata (60 kB)\n",
      "     ---------------------------------------- 0.0/60.4 kB ? eta -:--:--\n",
      "     ---------------------------------------- 60.4/60.4 kB 3.1 MB/s eta 0:00:00\n",
      "Requirement already satisfied: numpy<1.29.0,>=1.22.4 in c:\\users\\safiy\\appdata\\local\\programs\\python\\python312\\lib\\site-packages (from scipy) (1.26.4)\n",
      "Downloading scipy-1.12.0-cp312-cp312-win_amd64.whl (45.8 MB)\n",
      "   ---------------------------------------- 0.0/45.8 MB ? eta -:--:--\n",
      "   ---------------------------------------- 0.4/45.8 MB 8.1 MB/s eta 0:00:06\n",
      "    --------------------------------------- 0.6/45.8 MB 6.8 MB/s eta 0:00:07\n",
      "    --------------------------------------- 0.9/45.8 MB 6.6 MB/s eta 0:00:07\n",
      "   - -------------------------------------- 1.3/45.8 MB 6.4 MB/s eta 0:00:07\n",
      "   - -------------------------------------- 1.6/45.8 MB 6.2 MB/s eta 0:00:08\n",
      "   - -------------------------------------- 1.9/45.8 MB 6.2 MB/s eta 0:00:08\n",
      "   - -------------------------------------- 2.2/45.8 MB 6.1 MB/s eta 0:00:08\n",
      "   -- ------------------------------------- 2.5/45.8 MB 6.2 MB/s eta 0:00:07\n",
      "   -- ------------------------------------- 2.9/45.8 MB 6.1 MB/s eta 0:00:08\n",
      "   -- ------------------------------------- 3.1/45.8 MB 6.1 MB/s eta 0:00:08\n",
      "   -- ------------------------------------- 3.4/45.8 MB 6.1 MB/s eta 0:00:07\n",
      "   --- ------------------------------------ 3.8/45.8 MB 6.1 MB/s eta 0:00:07\n",
      "   --- ------------------------------------ 4.1/45.8 MB 6.1 MB/s eta 0:00:07\n",
      "   --- ------------------------------------ 4.4/45.8 MB 6.2 MB/s eta 0:00:07\n",
      "   ---- ----------------------------------- 4.7/45.8 MB 6.1 MB/s eta 0:00:07\n",
      "   ---- ----------------------------------- 5.1/45.8 MB 6.2 MB/s eta 0:00:07\n",
      "   ---- ----------------------------------- 5.4/45.8 MB 6.1 MB/s eta 0:00:07\n",
      "   ----- ---------------------------------- 5.7/45.8 MB 6.1 MB/s eta 0:00:07\n",
      "   ----- ---------------------------------- 6.0/45.8 MB 6.1 MB/s eta 0:00:07\n",
      "   ----- ---------------------------------- 6.3/45.8 MB 6.1 MB/s eta 0:00:07\n",
      "   ----- ---------------------------------- 6.6/45.8 MB 6.0 MB/s eta 0:00:07\n",
      "   ------ --------------------------------- 6.9/45.8 MB 6.0 MB/s eta 0:00:07\n",
      "   ------ --------------------------------- 7.2/45.8 MB 6.1 MB/s eta 0:00:07\n",
      "   ------ --------------------------------- 7.5/45.8 MB 6.1 MB/s eta 0:00:07\n",
      "   ------ --------------------------------- 7.7/45.8 MB 6.1 MB/s eta 0:00:07\n",
      "   ------ --------------------------------- 8.0/45.8 MB 6.1 MB/s eta 0:00:07\n",
      "   ------- -------------------------------- 8.3/45.8 MB 6.1 MB/s eta 0:00:07\n",
      "   ------- -------------------------------- 8.6/45.8 MB 6.1 MB/s eta 0:00:07\n",
      "   ------- -------------------------------- 9.0/45.8 MB 6.1 MB/s eta 0:00:07\n",
      "   -------- ------------------------------- 9.3/45.8 MB 6.1 MB/s eta 0:00:07\n",
      "   -------- ------------------------------- 9.6/45.8 MB 6.1 MB/s eta 0:00:06\n",
      "   -------- ------------------------------- 9.9/45.8 MB 6.1 MB/s eta 0:00:06\n",
      "   -------- ------------------------------- 10.3/45.8 MB 6.1 MB/s eta 0:00:06\n",
      "   --------- ------------------------------ 10.5/45.8 MB 6.0 MB/s eta 0:00:06\n",
      "   --------- ------------------------------ 10.8/45.8 MB 6.0 MB/s eta 0:00:06\n",
      "   --------- ------------------------------ 11.1/45.8 MB 6.0 MB/s eta 0:00:06\n",
      "   --------- ------------------------------ 11.3/45.8 MB 6.0 MB/s eta 0:00:06\n",
      "   ---------- ----------------------------- 11.5/45.8 MB 6.0 MB/s eta 0:00:06\n",
      "   ---------- ----------------------------- 11.9/45.8 MB 6.0 MB/s eta 0:00:06\n",
      "   ---------- ----------------------------- 12.3/45.8 MB 6.1 MB/s eta 0:00:06\n",
      "   ---------- ----------------------------- 12.6/45.8 MB 6.0 MB/s eta 0:00:06\n",
      "   ----------- ---------------------------- 12.9/45.8 MB 6.0 MB/s eta 0:00:06\n",
      "   ----------- ---------------------------- 13.1/45.8 MB 6.0 MB/s eta 0:00:06\n",
      "   ----------- ---------------------------- 13.4/45.8 MB 6.0 MB/s eta 0:00:06\n",
      "   ----------- ---------------------------- 13.7/45.8 MB 6.1 MB/s eta 0:00:06\n",
      "   ------------ --------------------------- 14.0/45.8 MB 6.0 MB/s eta 0:00:06\n",
      "   ------------ --------------------------- 14.3/45.8 MB 6.0 MB/s eta 0:00:06\n",
      "   ------------ --------------------------- 14.6/45.8 MB 6.0 MB/s eta 0:00:06\n",
      "   ------------ --------------------------- 14.9/45.8 MB 6.0 MB/s eta 0:00:06\n",
      "   ------------- -------------------------- 15.2/45.8 MB 6.0 MB/s eta 0:00:06\n",
      "   ------------- -------------------------- 15.6/45.8 MB 6.0 MB/s eta 0:00:06\n",
      "   ------------- -------------------------- 15.8/45.8 MB 6.0 MB/s eta 0:00:05\n",
      "   -------------- ------------------------- 16.2/45.8 MB 6.0 MB/s eta 0:00:05\n",
      "   -------------- ------------------------- 16.5/45.8 MB 6.1 MB/s eta 0:00:05\n",
      "   --------------- ------------------------ 17.4/45.8 MB 6.0 MB/s eta 0:00:05\n",
      "   --------------- ------------------------ 17.8/45.8 MB 6.0 MB/s eta 0:00:05\n",
      "   --------------- ------------------------ 18.1/45.8 MB 6.1 MB/s eta 0:00:05\n",
      "   ---------------- ----------------------- 18.4/45.8 MB 6.1 MB/s eta 0:00:05\n",
      "   ---------------- ----------------------- 18.7/45.8 MB 6.1 MB/s eta 0:00:05\n",
      "   ---------------- ----------------------- 19.0/45.8 MB 6.1 MB/s eta 0:00:05\n",
      "   ---------------- ----------------------- 19.4/45.8 MB 6.0 MB/s eta 0:00:05\n",
      "   ----------------- ---------------------- 19.5/45.8 MB 6.0 MB/s eta 0:00:05\n",
      "   ----------------- ---------------------- 19.5/45.8 MB 6.0 MB/s eta 0:00:05\n",
      "   ----------------- ---------------------- 20.2/45.8 MB 6.1 MB/s eta 0:00:05\n",
      "   ------------------ --------------------- 20.7/45.8 MB 6.0 MB/s eta 0:00:05\n",
      "   ------------------ --------------------- 21.0/45.8 MB 6.0 MB/s eta 0:00:05\n",
      "   ------------------ --------------------- 21.3/45.8 MB 6.1 MB/s eta 0:00:05\n",
      "   ------------------ --------------------- 21.6/45.8 MB 6.1 MB/s eta 0:00:04\n",
      "   ------------------- -------------------- 22.0/45.8 MB 6.0 MB/s eta 0:00:04\n",
      "   ------------------- -------------------- 22.2/45.8 MB 6.0 MB/s eta 0:00:04\n",
      "   ------------------- -------------------- 22.6/45.8 MB 6.0 MB/s eta 0:00:04\n",
      "   ------------------- -------------------- 22.9/45.8 MB 6.0 MB/s eta 0:00:04\n",
      "   -------------------- ------------------- 23.2/45.8 MB 6.0 MB/s eta 0:00:04\n",
      "   -------------------- ------------------- 23.5/45.8 MB 6.0 MB/s eta 0:00:04\n",
      "   -------------------- ------------------- 23.9/45.8 MB 6.0 MB/s eta 0:00:04\n",
      "   --------------------- ------------------ 24.1/45.8 MB 6.0 MB/s eta 0:00:04\n",
      "   --------------------- ------------------ 24.5/45.8 MB 6.0 MB/s eta 0:00:04\n",
      "   --------------------- ------------------ 24.8/45.8 MB 6.1 MB/s eta 0:00:04\n",
      "   --------------------- ------------------ 25.1/45.8 MB 6.0 MB/s eta 0:00:04\n",
      "   ---------------------- ----------------- 25.4/45.8 MB 6.1 MB/s eta 0:00:04\n",
      "   ---------------------- ----------------- 25.7/45.8 MB 6.1 MB/s eta 0:00:04\n",
      "   ---------------------- ----------------- 26.0/45.8 MB 6.0 MB/s eta 0:00:04\n",
      "   ---------------------- ----------------- 26.3/45.8 MB 6.1 MB/s eta 0:00:04\n",
      "   ----------------------- ---------------- 26.6/45.8 MB 6.0 MB/s eta 0:00:04\n",
      "   ----------------------- ---------------- 26.9/45.8 MB 6.2 MB/s eta 0:00:04\n",
      "   ----------------------- ---------------- 27.2/45.8 MB 6.1 MB/s eta 0:00:04\n",
      "   ------------------------ --------------- 27.6/45.8 MB 6.0 MB/s eta 0:00:04\n",
      "   ------------------------ --------------- 27.9/45.8 MB 6.0 MB/s eta 0:00:03\n",
      "   ------------------------ --------------- 28.2/45.8 MB 6.0 MB/s eta 0:00:03\n",
      "   ------------------------ --------------- 28.4/45.8 MB 6.0 MB/s eta 0:00:03\n",
      "   ------------------------- -------------- 28.7/45.8 MB 6.1 MB/s eta 0:00:03\n",
      "   ------------------------- -------------- 29.0/45.8 MB 6.1 MB/s eta 0:00:03\n",
      "   ------------------------- -------------- 29.3/45.8 MB 6.1 MB/s eta 0:00:03\n",
      "   ------------------------- -------------- 29.6/45.8 MB 6.0 MB/s eta 0:00:03\n",
      "   -------------------------- ------------- 29.8/45.8 MB 6.2 MB/s eta 0:00:03\n",
      "   -------------------------- ------------- 30.1/45.8 MB 6.2 MB/s eta 0:00:03\n",
      "   -------------------------- ------------- 30.4/45.8 MB 6.1 MB/s eta 0:00:03\n",
      "   -------------------------- ------------- 30.5/45.8 MB 6.0 MB/s eta 0:00:03\n",
      "   --------------------------- ------------ 31.0/45.8 MB 6.1 MB/s eta 0:00:03\n",
      "   --------------------------- ------------ 31.2/45.8 MB 6.1 MB/s eta 0:00:03\n",
      "   --------------------------- ------------ 31.5/45.8 MB 6.0 MB/s eta 0:00:03\n",
      "   --------------------------- ------------ 31.8/45.8 MB 6.1 MB/s eta 0:00:03\n",
      "   ---------------------------- ----------- 32.1/45.8 MB 6.1 MB/s eta 0:00:03\n",
      "   ---------------------------- ----------- 32.3/45.8 MB 6.0 MB/s eta 0:00:03\n",
      "   ---------------------------- ----------- 32.6/45.8 MB 6.0 MB/s eta 0:00:03\n",
      "   ---------------------------- ----------- 32.9/45.8 MB 6.1 MB/s eta 0:00:03\n",
      "   ---------------------------- ----------- 33.2/45.8 MB 6.1 MB/s eta 0:00:03\n",
      "   ----------------------------- ---------- 33.4/45.8 MB 6.1 MB/s eta 0:00:03\n",
      "   ----------------------------- ---------- 33.8/45.8 MB 6.1 MB/s eta 0:00:02\n",
      "   ----------------------------- ---------- 34.0/45.8 MB 6.1 MB/s eta 0:00:02\n",
      "   ----------------------------- ---------- 34.3/45.8 MB 6.0 MB/s eta 0:00:02\n",
      "   ------------------------------ --------- 34.7/45.8 MB 6.0 MB/s eta 0:00:02\n",
      "   ------------------------------ --------- 35.0/45.8 MB 6.1 MB/s eta 0:00:02\n",
      "   ------------------------------ --------- 35.3/45.8 MB 6.1 MB/s eta 0:00:02\n",
      "   ------------------------------- -------- 35.5/45.8 MB 6.0 MB/s eta 0:00:02\n",
      "   ------------------------------- -------- 35.8/45.8 MB 6.0 MB/s eta 0:00:02\n",
      "   ------------------------------- -------- 36.2/45.8 MB 6.0 MB/s eta 0:00:02\n",
      "   ------------------------------- -------- 36.5/45.8 MB 6.0 MB/s eta 0:00:02\n",
      "   -------------------------------- ------- 36.8/45.8 MB 6.1 MB/s eta 0:00:02\n",
      "   -------------------------------- ------- 37.1/45.8 MB 6.0 MB/s eta 0:00:02\n",
      "   -------------------------------- ------- 37.5/45.8 MB 6.0 MB/s eta 0:00:02\n",
      "   -------------------------------- ------- 37.8/45.8 MB 6.0 MB/s eta 0:00:02\n",
      "   --------------------------------- ------ 38.1/45.8 MB 6.0 MB/s eta 0:00:02\n",
      "   --------------------------------- ------ 38.4/45.8 MB 6.0 MB/s eta 0:00:02\n",
      "   --------------------------------- ------ 38.7/45.8 MB 6.0 MB/s eta 0:00:02\n",
      "   ---------------------------------- ----- 39.0/45.8 MB 6.0 MB/s eta 0:00:02\n",
      "   ---------------------------------- ----- 39.3/45.8 MB 6.0 MB/s eta 0:00:02\n",
      "   ---------------------------------- ----- 39.6/45.8 MB 6.0 MB/s eta 0:00:02\n",
      "   ---------------------------------- ----- 39.8/45.8 MB 6.0 MB/s eta 0:00:01\n",
      "   ----------------------------------- ---- 40.1/45.8 MB 6.0 MB/s eta 0:00:01\n",
      "   ----------------------------------- ---- 40.4/45.8 MB 6.0 MB/s eta 0:00:01\n",
      "   ----------------------------------- ---- 40.8/45.8 MB 6.1 MB/s eta 0:00:01\n",
      "   ----------------------------------- ---- 41.1/45.8 MB 6.0 MB/s eta 0:00:01\n",
      "   ------------------------------------ --- 41.3/45.8 MB 6.1 MB/s eta 0:00:01\n",
      "   ------------------------------------ --- 41.6/45.8 MB 6.1 MB/s eta 0:00:01\n",
      "   ------------------------------------ --- 41.9/45.8 MB 6.1 MB/s eta 0:00:01\n",
      "   ------------------------------------ --- 42.2/45.8 MB 6.1 MB/s eta 0:00:01\n",
      "   ------------------------------------- -- 42.4/45.8 MB 6.1 MB/s eta 0:00:01\n",
      "   ------------------------------------- -- 42.7/45.8 MB 6.1 MB/s eta 0:00:01\n",
      "   ------------------------------------- -- 43.0/45.8 MB 6.0 MB/s eta 0:00:01\n",
      "   ------------------------------------- -- 43.4/45.8 MB 6.1 MB/s eta 0:00:01\n",
      "   -------------------------------------- - 43.6/45.8 MB 6.0 MB/s eta 0:00:01\n",
      "   -------------------------------------- - 44.0/45.8 MB 6.1 MB/s eta 0:00:01\n",
      "   -------------------------------------- - 44.3/45.8 MB 6.1 MB/s eta 0:00:01\n",
      "   ---------------------------------------  44.7/45.8 MB 6.0 MB/s eta 0:00:01\n",
      "   ---------------------------------------  45.0/45.8 MB 6.0 MB/s eta 0:00:01\n",
      "   ---------------------------------------  45.3/45.8 MB 6.1 MB/s eta 0:00:01\n",
      "   ---------------------------------------  45.5/45.8 MB 6.1 MB/s eta 0:00:01\n",
      "   ---------------------------------------  45.8/45.8 MB 6.1 MB/s eta 0:00:01\n",
      "   ---------------------------------------  45.8/45.8 MB 6.1 MB/s eta 0:00:01\n",
      "   ---------------------------------------  45.8/45.8 MB 6.1 MB/s eta 0:00:01\n",
      "   ---------------------------------------  45.8/45.8 MB 6.1 MB/s eta 0:00:01\n",
      "   ---------------------------------------  45.8/45.8 MB 6.1 MB/s eta 0:00:01\n",
      "   ---------------------------------------  45.8/45.8 MB 6.1 MB/s eta 0:00:01\n",
      "   ---------------------------------------  45.8/45.8 MB 6.1 MB/s eta 0:00:01\n",
      "   ---------------------------------------  45.8/45.8 MB 6.1 MB/s eta 0:00:01\n",
      "   ---------------------------------------  45.8/45.8 MB 6.1 MB/s eta 0:00:01\n",
      "   ---------------------------------------  45.8/45.8 MB 6.1 MB/s eta 0:00:01\n",
      "   ---------------------------------------  45.8/45.8 MB 6.1 MB/s eta 0:00:01\n",
      "   ---------------------------------------  45.8/45.8 MB 6.1 MB/s eta 0:00:01\n",
      "   ---------------------------------------  45.8/45.8 MB 6.1 MB/s eta 0:00:01\n",
      "   ---------------------------------------  45.8/45.8 MB 6.1 MB/s eta 0:00:01\n",
      "   ---------------------------------------  45.8/45.8 MB 6.1 MB/s eta 0:00:01\n",
      "   ---------------------------------------  45.8/45.8 MB 6.1 MB/s eta 0:00:01\n",
      "   ---------------------------------------  45.8/45.8 MB 6.1 MB/s eta 0:00:01\n",
      "   ---------------------------------------  45.8/45.8 MB 6.1 MB/s eta 0:00:01\n",
      "   ---------------------------------------  45.8/45.8 MB 6.1 MB/s eta 0:00:01\n",
      "   ---------------------------------------  45.8/45.8 MB 6.1 MB/s eta 0:00:01\n",
      "   ---------------------------------------  45.8/45.8 MB 6.1 MB/s eta 0:00:01\n",
      "   ---------------------------------------  45.8/45.8 MB 6.1 MB/s eta 0:00:01\n",
      "   ---------------------------------------  45.8/45.8 MB 6.1 MB/s eta 0:00:01\n",
      "   ---------------------------------------  45.8/45.8 MB 6.1 MB/s eta 0:00:01\n",
      "   ---------------------------------------  45.8/45.8 MB 6.1 MB/s eta 0:00:01\n",
      "   ---------------------------------------  45.8/45.8 MB 6.1 MB/s eta 0:00:01\n",
      "   ---------------------------------------  45.8/45.8 MB 6.1 MB/s eta 0:00:01\n",
      "   ---------------------------------------  45.8/45.8 MB 6.1 MB/s eta 0:00:01\n",
      "   ---------------------------------------  45.8/45.8 MB 6.1 MB/s eta 0:00:01\n",
      "   ---------------------------------------  45.8/45.8 MB 6.1 MB/s eta 0:00:01\n",
      "   ---------------------------------------  45.8/45.8 MB 6.1 MB/s eta 0:00:01\n",
      "   ---------------------------------------  45.8/45.8 MB 6.1 MB/s eta 0:00:01\n",
      "   ---------------------------------------  45.8/45.8 MB 6.1 MB/s eta 0:00:01\n",
      "   ---------------------------------------  45.8/45.8 MB 6.1 MB/s eta 0:00:01\n",
      "   ---------------------------------------  45.8/45.8 MB 6.1 MB/s eta 0:00:01\n",
      "   ---------------------------------------  45.8/45.8 MB 6.1 MB/s eta 0:00:01\n",
      "   ---------------------------------------  45.8/45.8 MB 6.1 MB/s eta 0:00:01\n",
      "   ---------------------------------------  45.8/45.8 MB 6.1 MB/s eta 0:00:01\n",
      "   ---------------------------------------  45.8/45.8 MB 6.1 MB/s eta 0:00:01\n",
      "   ---------------------------------------  45.8/45.8 MB 6.1 MB/s eta 0:00:01\n",
      "   ---------------------------------------  45.8/45.8 MB 6.1 MB/s eta 0:00:01\n",
      "   ---------------------------------------  45.8/45.8 MB 6.1 MB/s eta 0:00:01\n",
      "   ---------------------------------------  45.8/45.8 MB 6.1 MB/s eta 0:00:01\n",
      "   ---------------------------------------  45.8/45.8 MB 6.1 MB/s eta 0:00:01\n",
      "   ---------------------------------------  45.8/45.8 MB 6.1 MB/s eta 0:00:01\n",
      "   ---------------------------------------  45.8/45.8 MB 6.1 MB/s eta 0:00:01\n",
      "   ---------------------------------------  45.8/45.8 MB 6.1 MB/s eta 0:00:01\n",
      "   ---------------------------------------  45.8/45.8 MB 6.1 MB/s eta 0:00:01\n",
      "   ---------------------------------------  45.8/45.8 MB 6.1 MB/s eta 0:00:01\n",
      "   ---------------------------------------  45.8/45.8 MB 6.1 MB/s eta 0:00:01\n",
      "   ---------------------------------------  45.8/45.8 MB 6.1 MB/s eta 0:00:01\n",
      "   ---------------------------------------  45.8/45.8 MB 6.1 MB/s eta 0:00:01\n",
      "   ---------------------------------------  45.8/45.8 MB 6.1 MB/s eta 0:00:01\n",
      "   ---------------------------------------- 45.8/45.8 MB 2.3 MB/s eta 0:00:00\n",
      "Installing collected packages: scipy\n",
      "Successfully installed scipy-1.12.0\n"
     ]
    }
   ],
   "source": [
    "%pip install scipy"
   ]
  },
  {
   "cell_type": "code",
   "execution_count": 16,
   "id": "756eefd7",
   "metadata": {
    "ExecuteTime": {
     "end_time": "2023-04-18T21:34:02.709107Z",
     "start_time": "2023-04-18T21:34:02.703120Z"
    }
   },
   "outputs": [],
   "source": [
    "import numpy as np\n",
    "from scipy import stats"
   ]
  },
  {
   "cell_type": "code",
   "execution_count": 17,
   "id": "01ad24de",
   "metadata": {
    "ExecuteTime": {
     "end_time": "2023-04-18T21:34:39.030341Z",
     "start_time": "2023-04-18T21:34:39.004949Z"
    }
   },
   "outputs": [],
   "source": [
    "np.random.seed(101)\n",
    "\n",
    "population = np.random.randint(0,100,size=1000)   \n",
    "\n",
    "#random sayı ueretmek ıcın"
   ]
  },
  {
   "cell_type": "code",
   "execution_count": null,
   "id": "74d4e347",
   "metadata": {
    "ExecuteTime": {
     "end_time": "2023-04-18T21:35:32.049683Z",
     "start_time": "2023-04-18T21:35:32.039337Z"
    }
   },
   "outputs": [
    {
     "data": {
      "text/plain": [
       "array([95, 11, 81, 70, 63, 87, 75,  9, 77, 40,  4, 63, 40, 60, 92, 64,  5,\n",
       "       12, 93, 40, 49, 83,  8, 29, 59, 34, 44, 72, 19, 10, 76, 95, 87,  0,\n",
       "       73,  8, 62, 36, 83, 99, 28, 63,  7, 10, 52, 56, 38, 73, 52, 18, 71,\n",
       "       15, 44,  0, 12, 17, 75, 79, 97, 93, 24, 36, 63, 19, 35, 30, 10, 60,\n",
       "       20, 27,  8, 86, 26, 87, 46, 47, 54, 86,  9, 45,  2, 18, 58, 92, 11,\n",
       "       10, 94, 35, 28,  3, 83, 84, 47, 14, 69, 60, 69, 51,  6, 88, 71, 68,\n",
       "       23, 35, 79, 98, 67, 82, 57, 77, 46,  3, 46, 29, 86, 21, 21, 81, 23,\n",
       "       94, 71, 20, 27, 75,  5, 49, 86, 89, 63, 82, 77,  3, 56, 14, 49, 87,\n",
       "       52, 13, 47, 49, 24, 20, 64, 52, 60, 47, 29, 60, 53, 11, 40, 91, 45,\n",
       "       97, 24, 36, 38,  9, 52, 67, 43,  1, 79, 68, 68, 61, 18, 51, 14, 28,\n",
       "       17, 87, 46, 52, 16, 70, 71, 84, 10, 62, 96, 57, 23, 86, 85, 26, 76,\n",
       "       66, 54, 17, 65, 57, 89,  2, 80, 50, 66, 88, 79, 93,  6, 92, 42, 22,\n",
       "       20, 25, 97, 54, 71, 72, 80, 93, 64, 63, 80, 38, 45, 35, 25, 95, 75,\n",
       "       72, 11, 76, 79, 50, 22, 59, 66,  1, 34, 37, 57, 35, 42, 44, 49, 31,\n",
       "       79, 85,  3, 55, 73, 93, 94, 99, 40, 54, 88, 94, 86, 17, 68, 17, 18,\n",
       "       60, 83, 82,  7, 67, 34, 76, 94, 20, 69, 73, 59, 34, 69, 25, 78, 92,\n",
       "       74, 75, 33,  9, 43, 20, 82, 30,  3, 46, 29, 47, 27, 81, 71, 25, 94,\n",
       "       57, 21, 29,  6, 54, 47, 47, 60,  6, 75, 97, 53, 44, 98, 39, 32, 87,\n",
       "       78, 21, 90, 14, 20,  1, 70, 25, 45, 96, 32, 31, 41, 79, 87, 22, 94,\n",
       "       46, 71, 24, 41, 36, 31, 16, 87, 22, 96,  3, 12, 71,  9, 87, 95, 39,\n",
       "       64, 62, 88, 76, 93, 83, 95, 68, 69, 59, 52,  7, 40, 73, 86, 14, 49,\n",
       "       97, 25, 57, 40, 17, 32, 83, 97, 27, 47, 13, 70, 15, 92, 18, 94, 48,\n",
       "       65, 82, 34,  5, 46, 83, 27, 26, 20, 87, 84, 17, 59, 64, 44,  4, 51,\n",
       "       49, 74, 82, 37, 53, 93, 73,  5, 37, 56, 35, 15, 40, 42, 71, 37, 46,\n",
       "       71, 91, 97, 36, 43, 27, 66, 57,  3, 55, 70, 41, 67, 72, 88, 67, 75,\n",
       "       69, 92, 20, 15, 57,  9, 69, 97, 91, 51, 54, 45, 38, 15, 42, 61,  8,\n",
       "        3, 88, 72, 41, 24, 93, 28, 95, 43, 48, 69, 42, 66, 82, 66, 88, 78,\n",
       "       14, 53, 46, 14, 27, 68, 21, 38, 42, 30, 88, 79, 56, 65, 93, 37, 87,\n",
       "       66, 16, 60, 25, 99, 30, 41, 72, 45, 26, 87, 65, 60, 89, 70, 33, 59,\n",
       "       28, 16, 49, 95, 41, 11, 86, 15, 95, 91, 19, 69,  1, 77, 63, 87, 28,\n",
       "       70,  5,  3, 12, 62, 26, 96, 61, 87, 74, 99, 97, 64, 95,  3, 88, 59,\n",
       "       38, 29, 31, 88, 57,  9, 62, 31, 13, 35, 47,  2, 17, 50, 22, 30, 36,\n",
       "       22, 97, 51, 38, 28,  4,  0, 12, 90,  2,  7, 44, 54, 49, 76, 98,  3,\n",
       "       32, 91, 43,  7, 42, 66,  9,  5, 26, 66, 22, 47, 27, 46, 14, 52, 74,\n",
       "       54,  3, 94, 36, 63, 41, 18, 37, 45, 82, 47, 66, 97, 20,  9, 87, 40,\n",
       "       13, 95, 16, 38, 87, 72, 60, 78, 53, 48, 83, 90, 41, 84, 78, 55, 70,\n",
       "       93, 57, 86, 67,  8, 47, 70, 39, 53,  5, 40, 88, 58, 12, 70,  5, 82,\n",
       "        8, 60, 58, 45, 92, 85, 44, 62, 39, 38, 54, 98, 80, 93, 16, 37, 58,\n",
       "       40, 72, 72, 22, 42, 38, 45, 16, 52, 17, 22, 15, 18, 37, 48,  2,  2,\n",
       "       31, 50, 78, 70, 40, 60, 62, 69, 34, 95, 58,  4, 70, 20, 18, 66, 23,\n",
       "       87, 45, 64,  6, 39, 29, 60, 33, 18, 59, 64, 59, 65, 10, 86, 66, 38,\n",
       "       76, 97, 79,  7, 65, 50, 53,  4, 39,  1,  5, 67, 92, 50, 59,  2, 91,\n",
       "       14, 12, 68, 87, 13, 18,  4, 89, 22, 40,  7,  2, 83, 19, 68, 89, 16,\n",
       "        1,  2, 73, 65, 24, 84, 17, 21, 97, 44, 36, 38, 93, 32,  5, 76, 19,\n",
       "       33, 76, 41, 21, 20, 54, 77, 62, 99,  4, 52, 83, 55, 11, 46, 39, 92,\n",
       "       34, 54, 49, 11, 62, 11, 83, 25, 32, 40, 27, 30, 92, 59, 86, 74, 17,\n",
       "       69, 85,  4,  5, 49, 29, 41, 38, 22, 45, 10, 65, 77, 72, 90, 80, 64,\n",
       "       81, 20,  2, 20, 53, 38, 94, 49, 26, 88, 21, 38, 52, 74, 96, 19, 77,\n",
       "        5, 70, 27, 92,  6, 97, 71, 23, 90, 78, 85, 61, 79, 54, 56, 64, 41,\n",
       "       61, 56,  2, 86, 19, 77,  5, 44, 15, 75, 70, 12, 13, 93, 21, 46, 28,\n",
       "       20, 70, 14, 56, 19, 79, 59, 33, 33, 11, 44, 43, 93,  3, 39, 77,  3,\n",
       "       58, 51, 32, 46,  8,  9, 13, 63, 59, 79,  5, 33, 47, 29, 79, 62, 25,\n",
       "       43, 46, 94, 68, 55, 69, 41, 41, 14, 47,  3, 64, 23, 80, 42, 84, 88,\n",
       "       89, 10, 78, 97, 65,  8, 14, 28, 80, 17, 62, 27, 33, 14, 21, 25, 96,\n",
       "       64, 84,  6, 76, 95, 43, 94, 40, 68, 45, 24, 50, 36, 62, 52,  9, 79,\n",
       "       74, 30, 70, 90, 58, 97, 57, 60, 64, 86, 93, 31, 22, 90,  3, 52,  9,\n",
       "       93, 60, 42,  1, 15, 38, 65, 10, 86, 63, 98, 11, 96, 67, 95, 94, 80,\n",
       "       16, 30, 89, 62, 62, 42, 10, 48, 86, 33, 52, 24, 94, 78, 71, 19, 75,\n",
       "       81, 71, 23, 93, 58, 48, 76, 63, 58, 28, 84, 47, 40, 63])"
      ]
     },
     "execution_count": 17,
     "metadata": {},
     "output_type": "execute_result"
    }
   ],
   "source": [
    "population"
   ]
  },
  {
   "cell_type": "code",
   "execution_count": 18,
   "id": "2820340b",
   "metadata": {
    "ExecuteTime": {
     "end_time": "2023-04-18T21:36:15.283601Z",
     "start_time": "2023-04-18T21:36:15.254657Z"
    }
   },
   "outputs": [],
   "source": [
    "np.random.seed(51)\n",
    "\n",
    "sample = np.random.choice(population, 100)\n",
    "\n",
    "#yukardaki populasyondan 100 elemanlı sample ueretelim"
   ]
  },
  {
   "cell_type": "code",
   "execution_count": 19,
   "id": "45c0d52c",
   "metadata": {
    "ExecuteTime": {
     "end_time": "2023-04-18T21:36:23.261578Z",
     "start_time": "2023-04-18T21:36:23.251865Z"
    }
   },
   "outputs": [
    {
     "data": {
      "text/plain": [
       "array([79, 26, 84, 16, 92, 29, 96, 65, 45, 17,  9, 85, 33,  4, 47, 93, 19,\n",
       "       14, 20, 68, 43, 40, 19, 92, 43,  8, 75, 65, 55, 46, 15, 74, 32, 59,\n",
       "       87, 12, 87, 43, 19, 19, 26, 49, 57, 47,  5, 68, 52, 56, 78, 34, 11,\n",
       "       95, 65, 55, 21, 38, 52, 17, 31,  5, 81,  5, 72,  8, 49, 20, 19, 35,\n",
       "       27, 55, 44, 80, 18, 70, 82, 40, 76,  3, 48, 28, 47, 80, 69, 41, 41,\n",
       "       84, 54, 60, 62, 16, 64, 41, 28, 77, 90, 39, 27, 16, 20, 28])"
      ]
     },
     "execution_count": 19,
     "metadata": {},
     "output_type": "execute_result"
    }
   ],
   "source": [
    "sample"
   ]
  },
  {
   "cell_type": "code",
   "execution_count": 20,
   "id": "b27d48e0",
   "metadata": {
    "ExecuteTime": {
     "end_time": "2023-04-18T21:37:32.240504Z",
     "start_time": "2023-04-18T21:37:32.214902Z"
    }
   },
   "outputs": [
    {
     "data": {
      "text/plain": [
       "50.372"
      ]
     },
     "execution_count": 20,
     "metadata": {},
     "output_type": "execute_result"
    }
   ],
   "source": [
    "population.mean()   #populasyonun ortalaamsı"
   ]
  },
  {
   "cell_type": "code",
   "execution_count": null,
   "id": "c4051304",
   "metadata": {
    "ExecuteTime": {
     "end_time": "2023-04-18T21:37:52.320890Z",
     "start_time": "2023-04-18T21:37:52.299875Z"
    }
   },
   "outputs": [
    {
     "data": {
      "text/plain": [
       "45.8"
      ]
     },
     "execution_count": 21,
     "metadata": {},
     "output_type": "execute_result"
    }
   ],
   "source": [
    "sample.mean()"
   ]
  },
  {
   "cell_type": "code",
   "execution_count": 51,
   "id": "0957c534",
   "metadata": {
    "ExecuteTime": {
     "end_time": "2023-04-18T21:40:00.059280Z",
     "start_time": "2023-04-18T21:40:00.034079Z"
    }
   },
   "outputs": [
    {
     "data": {
      "text/plain": [
       "[52.93,\n",
       " 52.71,\n",
       " 51.48,\n",
       " 49.02,\n",
       " 50.72,\n",
       " 45.84,\n",
       " 48.77,\n",
       " 48.41,\n",
       " 54.01,\n",
       " 44.87,\n",
       " 51.72,\n",
       " 51.65,\n",
       " 54.57,\n",
       " 48.83,\n",
       " 44.41,\n",
       " 49.63,\n",
       " 49.15,\n",
       " 50.02,\n",
       " 48.74,\n",
       " 52.77,\n",
       " 51.26,\n",
       " 49.28,\n",
       " 52.28,\n",
       " 50.7,\n",
       " 52.81,\n",
       " 46.22,\n",
       " 54.3,\n",
       " 46.9,\n",
       " 49.29,\n",
       " 46.83,\n",
       " 49.81,\n",
       " 45.98,\n",
       " 53.15,\n",
       " 50.75,\n",
       " 41.74,\n",
       " 47.2,\n",
       " 51.9,\n",
       " 48.24,\n",
       " 52.57,\n",
       " 50.34,\n",
       " 45.78,\n",
       " 48.94,\n",
       " 56.4,\n",
       " 51.11,\n",
       " 50.95,\n",
       " 44.03,\n",
       " 51.2,\n",
       " 47.32,\n",
       " 53.74,\n",
       " 48.19,\n",
       " 54.51,\n",
       " 47.38,\n",
       " 50.3,\n",
       " 49.49,\n",
       " 52.27,\n",
       " 53.45,\n",
       " 53.87,\n",
       " 52.99,\n",
       " 54.08,\n",
       " 53.49,\n",
       " 52.23,\n",
       " 47.72,\n",
       " 49.48,\n",
       " 53.17,\n",
       " 51.83,\n",
       " 52.98,\n",
       " 47.68,\n",
       " 54.8,\n",
       " 50.11,\n",
       " 50.31,\n",
       " 52.07,\n",
       " 49.52,\n",
       " 51.08,\n",
       " 53.73,\n",
       " 47.46,\n",
       " 48.05,\n",
       " 46.97,\n",
       " 47.07,\n",
       " 50.67,\n",
       " 46.96,\n",
       " 49.74,\n",
       " 50.45,\n",
       " 50.02,\n",
       " 49.99,\n",
       " 48.17,\n",
       " 48.72,\n",
       " 48.8,\n",
       " 53.64,\n",
       " 48.65,\n",
       " 55.24,\n",
       " 45.34,\n",
       " 52.11,\n",
       " 51.73,\n",
       " 51.0,\n",
       " 52.41,\n",
       " 49.71,\n",
       " 49.24,\n",
       " 48.12,\n",
       " 49.51,\n",
       " 43.78]"
      ]
     },
     "execution_count": 51,
     "metadata": {},
     "output_type": "execute_result"
    }
   ],
   "source": [
    "sample_means = []\n",
    "for i in range(100):\n",
    "  sample = np.random.choice(population, 100)\n",
    "  sample_means.append(sample.mean())\n",
    "\n",
    "sample_means\n",
    "\n",
    "#sample means adında bir listeye 100 farklı sample ın ortalaamsını ekleyelim"
   ]
  },
  {
   "cell_type": "code",
   "execution_count": 52,
   "id": "e49c3ddc",
   "metadata": {
    "ExecuteTime": {
     "end_time": "2023-04-18T21:41:07.940034Z",
     "start_time": "2023-04-18T21:41:07.918104Z"
    }
   },
   "outputs": [
    {
     "data": {
      "text/plain": [
       "50.11549999999999"
      ]
     },
     "execution_count": 52,
     "metadata": {},
     "output_type": "execute_result"
    }
   ],
   "source": [
    "np.mean(sample_means) "
   ]
  },
  {
   "cell_type": "markdown",
   "id": "f062518c",
   "metadata": {},
   "source": [
    "# Mean Median Mode Skewwness Kurtosis"
   ]
  },
  {
   "cell_type": "code",
   "execution_count": 26,
   "id": "56eb7a81",
   "metadata": {
    "ExecuteTime": {
     "end_time": "2023-04-18T21:42:38.745109Z",
     "start_time": "2023-04-18T21:42:38.725493Z"
    }
   },
   "outputs": [],
   "source": [
    "age = [20, 22, 25, 25, 27, 27, 27, 29, 30, 31, 121]  #ornek veri seti"
   ]
  },
  {
   "cell_type": "code",
   "execution_count": 27,
   "id": "5dd7ac41",
   "metadata": {
    "ExecuteTime": {
     "end_time": "2023-04-18T21:43:09.031318Z",
     "start_time": "2023-04-18T21:43:09.012017Z"
    }
   },
   "outputs": [
    {
     "data": {
      "text/plain": [
       "34.90909090909091"
      ]
     },
     "execution_count": 27,
     "metadata": {},
     "output_type": "execute_result"
    }
   ],
   "source": [
    "np.mean(age)"
   ]
  },
  {
   "cell_type": "code",
   "execution_count": 28,
   "id": "b6998415",
   "metadata": {
    "ExecuteTime": {
     "end_time": "2023-04-18T21:43:56.396875Z",
     "start_time": "2023-04-18T21:43:56.379189Z"
    }
   },
   "outputs": [
    {
     "data": {
      "text/plain": [
       "27.0"
      ]
     },
     "execution_count": 28,
     "metadata": {},
     "output_type": "execute_result"
    }
   ],
   "source": [
    "np.median(age)"
   ]
  },
  {
   "cell_type": "code",
   "execution_count": 29,
   "id": "7f4ddaaa",
   "metadata": {
    "ExecuteTime": {
     "end_time": "2023-04-18T21:44:48.685567Z",
     "start_time": "2023-04-18T21:44:48.663331Z"
    }
   },
   "outputs": [
    {
     "data": {
      "text/plain": [
       "ModeResult(mode=27, count=3)"
      ]
     },
     "execution_count": 29,
     "metadata": {},
     "output_type": "execute_result"
    }
   ],
   "source": [
    "stats.mode(age)   #mode hesabı ıcın scipy kullanıyoruz"
   ]
  },
  {
   "cell_type": "code",
   "execution_count": 30,
   "id": "5b336df3",
   "metadata": {
    "ExecuteTime": {
     "end_time": "2023-04-18T21:45:30.489314Z",
     "start_time": "2023-04-18T21:45:30.470219Z"
    }
   },
   "outputs": [
    {
     "data": {
      "text/plain": [
       "27"
      ]
     },
     "execution_count": 30,
     "metadata": {},
     "output_type": "execute_result"
    }
   ],
   "source": [
    "stats.mode(age)[0]   #sadece mode degerini gormek ıcın"
   ]
  },
  {
   "cell_type": "code",
   "execution_count": 31,
   "id": "3651a208",
   "metadata": {
    "ExecuteTime": {
     "end_time": "2023-04-18T21:47:16.886114Z",
     "start_time": "2023-04-18T21:47:16.872607Z"
    }
   },
   "outputs": [],
   "source": [
    "data = {\"D1\":[135, 137, 136, 138, 138],\n",
    "\n",
    "              \"D2\":[43,   42, 42, 42, 42],\n",
    "\n",
    "              \"D3\":[72, 73, 72, 72, 73],\n",
    "\n",
    "              \"D4\":[100, 102, 100, 103, 104]};"
   ]
  },
  {
   "cell_type": "code",
   "execution_count": 32,
   "id": "7aef98ec",
   "metadata": {
    "ExecuteTime": {
     "end_time": "2023-04-18T21:47:28.337512Z",
     "start_time": "2023-04-18T21:47:28.325879Z"
    }
   },
   "outputs": [
    {
     "data": {
      "text/html": [
       "<div>\n",
       "<style scoped>\n",
       "    .dataframe tbody tr th:only-of-type {\n",
       "        vertical-align: middle;\n",
       "    }\n",
       "\n",
       "    .dataframe tbody tr th {\n",
       "        vertical-align: top;\n",
       "    }\n",
       "\n",
       "    .dataframe thead th {\n",
       "        text-align: right;\n",
       "    }\n",
       "</style>\n",
       "<table border=\"1\" class=\"dataframe\">\n",
       "  <thead>\n",
       "    <tr style=\"text-align: right;\">\n",
       "      <th></th>\n",
       "      <th>D1</th>\n",
       "      <th>D2</th>\n",
       "      <th>D3</th>\n",
       "      <th>D4</th>\n",
       "    </tr>\n",
       "  </thead>\n",
       "  <tbody>\n",
       "    <tr>\n",
       "      <th>0</th>\n",
       "      <td>135</td>\n",
       "      <td>43</td>\n",
       "      <td>72</td>\n",
       "      <td>100</td>\n",
       "    </tr>\n",
       "    <tr>\n",
       "      <th>1</th>\n",
       "      <td>137</td>\n",
       "      <td>42</td>\n",
       "      <td>73</td>\n",
       "      <td>102</td>\n",
       "    </tr>\n",
       "    <tr>\n",
       "      <th>2</th>\n",
       "      <td>136</td>\n",
       "      <td>42</td>\n",
       "      <td>72</td>\n",
       "      <td>100</td>\n",
       "    </tr>\n",
       "    <tr>\n",
       "      <th>3</th>\n",
       "      <td>138</td>\n",
       "      <td>42</td>\n",
       "      <td>72</td>\n",
       "      <td>103</td>\n",
       "    </tr>\n",
       "    <tr>\n",
       "      <th>4</th>\n",
       "      <td>138</td>\n",
       "      <td>42</td>\n",
       "      <td>73</td>\n",
       "      <td>104</td>\n",
       "    </tr>\n",
       "  </tbody>\n",
       "</table>\n",
       "</div>"
      ],
      "text/plain": [
       "    D1  D2  D3   D4\n",
       "0  135  43  72  100\n",
       "1  137  42  73  102\n",
       "2  136  42  72  100\n",
       "3  138  42  72  103\n",
       "4  138  42  73  104"
      ]
     },
     "execution_count": 32,
     "metadata": {},
     "output_type": "execute_result"
    }
   ],
   "source": [
    "df = pd.DataFrame(data)\n",
    "df"
   ]
  },
  {
   "cell_type": "code",
   "execution_count": 33,
   "id": "fd9afd70",
   "metadata": {
    "ExecuteTime": {
     "end_time": "2023-04-18T21:47:45.139133Z",
     "start_time": "2023-04-18T21:47:45.131380Z"
    }
   },
   "outputs": [
    {
     "data": {
      "text/plain": [
       "D1    136.8\n",
       "D2     42.2\n",
       "D3     72.4\n",
       "D4    101.8\n",
       "dtype: float64"
      ]
     },
     "execution_count": 33,
     "metadata": {},
     "output_type": "execute_result"
    }
   ],
   "source": [
    "df.mean()"
   ]
  },
  {
   "cell_type": "code",
   "execution_count": 34,
   "id": "60ffa7b8",
   "metadata": {
    "ExecuteTime": {
     "end_time": "2023-04-18T21:48:59.656809Z",
     "start_time": "2023-04-18T21:48:59.648771Z"
    }
   },
   "outputs": [
    {
     "data": {
      "text/plain": [
       "42.2"
      ]
     },
     "execution_count": 34,
     "metadata": {},
     "output_type": "execute_result"
    }
   ],
   "source": [
    "df[\"D2\"].mean()    #sadece d2 nin mean degerini almak icin"
   ]
  },
  {
   "cell_type": "code",
   "execution_count": 35,
   "id": "fc6b2151",
   "metadata": {
    "ExecuteTime": {
     "end_time": "2023-04-18T21:49:17.520963Z",
     "start_time": "2023-04-18T21:49:17.496518Z"
    }
   },
   "outputs": [
    {
     "data": {
      "text/plain": [
       "0    138\n",
       "Name: D1, dtype: int64"
      ]
     },
     "execution_count": 35,
     "metadata": {},
     "output_type": "execute_result"
    }
   ],
   "source": [
    "df[\"D1\"].mode()"
   ]
  },
  {
   "cell_type": "code",
   "execution_count": 36,
   "id": "35469eac",
   "metadata": {
    "ExecuteTime": {
     "end_time": "2023-04-18T21:49:30.319435Z",
     "start_time": "2023-04-18T21:49:30.307890Z"
    }
   },
   "outputs": [
    {
     "data": {
      "text/plain": [
       "102.0"
      ]
     },
     "execution_count": 36,
     "metadata": {},
     "output_type": "execute_result"
    }
   ],
   "source": [
    "df[\"D4\"].median()"
   ]
  },
  {
   "cell_type": "markdown",
   "id": "c23e0d25",
   "metadata": {},
   "source": [
    "# Dispersion"
   ]
  },
  {
   "cell_type": "code",
   "execution_count": 37,
   "id": "2fb94d30",
   "metadata": {
    "ExecuteTime": {
     "end_time": "2023-04-18T21:50:05.095749Z",
     "start_time": "2023-04-18T21:50:05.078575Z"
    }
   },
   "outputs": [],
   "source": [
    "age = [20, 22, 25, 25, 27, 27, 27, 29, 30, 31]"
   ]
  },
  {
   "cell_type": "code",
   "execution_count": 38,
   "id": "9af68bc5",
   "metadata": {
    "ExecuteTime": {
     "end_time": "2023-04-18T21:50:25.759519Z",
     "start_time": "2023-04-18T21:50:25.746491Z"
    }
   },
   "outputs": [
    {
     "data": {
      "text/plain": [
       "3.2572994949804666"
      ]
     },
     "execution_count": 38,
     "metadata": {},
     "output_type": "execute_result"
    }
   ],
   "source": [
    "np.std(age)   #standart sapma"
   ]
  },
  {
   "cell_type": "code",
   "execution_count": 39,
   "id": "6a723570",
   "metadata": {
    "ExecuteTime": {
     "end_time": "2023-04-18T21:50:53.218495Z",
     "start_time": "2023-04-18T21:50:53.205459Z"
    }
   },
   "outputs": [],
   "source": [
    "age2 = [20, 22, 25, 25, 27, 27, 27, 29, 30, 31, 121]    #121 degerini outlier olarak ekledim"
   ]
  },
  {
   "cell_type": "code",
   "execution_count": 40,
   "id": "ac0477dd",
   "metadata": {
    "ExecuteTime": {
     "end_time": "2023-04-18T21:51:03.292537Z",
     "start_time": "2023-04-18T21:51:03.275487Z"
    }
   },
   "outputs": [
    {
     "data": {
      "text/plain": [
       "27.400910885504736"
      ]
     },
     "execution_count": 40,
     "metadata": {},
     "output_type": "execute_result"
    }
   ],
   "source": [
    "np.std(age2) "
   ]
  },
  {
   "cell_type": "code",
   "execution_count": 41,
   "id": "6f673ab5",
   "metadata": {
    "ExecuteTime": {
     "end_time": "2023-04-18T21:51:36.141022Z",
     "start_time": "2023-04-18T21:51:36.128440Z"
    }
   },
   "outputs": [
    {
     "data": {
      "text/plain": [
       "101"
      ]
     },
     "execution_count": 41,
     "metadata": {},
     "output_type": "execute_result"
    }
   ],
   "source": [
    "np.max(age2) - np.min(age2)   #range hesabı"
   ]
  },
  {
   "cell_type": "code",
   "execution_count": 42,
   "id": "d90eb4f6",
   "metadata": {
    "ExecuteTime": {
     "end_time": "2023-04-18T21:52:01.994978Z",
     "start_time": "2023-04-18T21:52:01.984917Z"
    }
   },
   "outputs": [
    {
     "data": {
      "text/plain": [
       "750.809917355372"
      ]
     },
     "execution_count": 42,
     "metadata": {},
     "output_type": "execute_result"
    }
   ],
   "source": [
    "## varyans hesabı\n",
    "\n",
    "np.var(age2)"
   ]
  },
  {
   "cell_type": "code",
   "execution_count": 43,
   "id": "56aaf7f2",
   "metadata": {
    "ExecuteTime": {
     "end_time": "2023-04-18T21:52:29.033322Z",
     "start_time": "2023-04-18T21:52:29.016593Z"
    }
   },
   "outputs": [],
   "source": [
    "from scipy.stats import iqr"
   ]
  },
  {
   "cell_type": "code",
   "execution_count": 44,
   "id": "a73e07d3",
   "metadata": {
    "ExecuteTime": {
     "end_time": "2023-04-18T21:52:56.036008Z",
     "start_time": "2023-04-18T21:52:56.016864Z"
    }
   },
   "outputs": [
    {
     "data": {
      "text/plain": [
       "4.5"
      ]
     },
     "execution_count": 44,
     "metadata": {},
     "output_type": "execute_result"
    }
   ],
   "source": [
    "iqr(age2)   #iqr hesabı"
   ]
  },
  {
   "cell_type": "code",
   "execution_count": 45,
   "id": "9402eb98",
   "metadata": {
    "ExecuteTime": {
     "end_time": "2023-04-18T21:53:55.767326Z",
     "start_time": "2023-04-18T21:53:55.761742Z"
    }
   },
   "outputs": [],
   "source": [
    "q1 = np.percentile(age2, 25)   # q1 hesabı q1 =%25 lik ceyrek"
   ]
  },
  {
   "cell_type": "code",
   "execution_count": 46,
   "id": "63c43c53",
   "metadata": {
    "ExecuteTime": {
     "end_time": "2023-04-18T21:54:24.925985Z",
     "start_time": "2023-04-18T21:54:24.907966Z"
    }
   },
   "outputs": [],
   "source": [
    "q3 = np.percentile(age2, 75)  #q3 hesabı"
   ]
  },
  {
   "cell_type": "code",
   "execution_count": 47,
   "id": "9ce4488f",
   "metadata": {
    "ExecuteTime": {
     "end_time": "2023-04-18T21:54:46.618555Z",
     "start_time": "2023-04-18T21:54:46.597052Z"
    }
   },
   "outputs": [
    {
     "data": {
      "text/plain": [
       "4.5"
      ]
     },
     "execution_count": 47,
     "metadata": {},
     "output_type": "execute_result"
    }
   ],
   "source": [
    "iqr = q3 - q1\n",
    "iqr"
   ]
  },
  {
   "cell_type": "markdown",
   "id": "e399977e",
   "metadata": {},
   "source": [
    "# Skewness Kurtosis"
   ]
  },
  {
   "cell_type": "code",
   "execution_count": 48,
   "id": "8374d433",
   "metadata": {
    "ExecuteTime": {
     "end_time": "2023-04-18T21:55:56.922252Z",
     "start_time": "2023-04-18T21:55:56.914143Z"
    }
   },
   "outputs": [
    {
     "data": {
      "text/plain": [
       "5.876609699981859"
      ]
     },
     "execution_count": 48,
     "metadata": {},
     "output_type": "execute_result"
    }
   ],
   "source": [
    "stats.kurtosis(age2)   #basıklık olcumu"
   ]
  },
  {
   "cell_type": "code",
   "execution_count": 49,
   "id": "a204af72",
   "metadata": {
    "ExecuteTime": {
     "end_time": "2023-04-18T21:56:31.743093Z",
     "start_time": "2023-04-18T21:56:31.737413Z"
    }
   },
   "outputs": [
    {
     "data": {
      "text/plain": [
       "2.778572264050739"
      ]
     },
     "execution_count": 49,
     "metadata": {},
     "output_type": "execute_result"
    }
   ],
   "source": [
    "stats.skew(age2)   #skewness yani carpıklık olcumu"
   ]
  },
  {
   "cell_type": "code",
   "execution_count": null,
   "id": "484e867f",
   "metadata": {},
   "outputs": [],
   "source": []
  }
 ],
 "metadata": {
  "hide_input": false,
  "kernelspec": {
   "display_name": "Python 3 (ipykernel)",
   "language": "python",
   "name": "python3"
  },
  "language_info": {
   "codemirror_mode": {
    "name": "ipython",
    "version": 3
   },
   "file_extension": ".py",
   "mimetype": "text/x-python",
   "name": "python",
   "nbconvert_exporter": "python",
   "pygments_lexer": "ipython3",
   "version": "3.12.1"
  },
  "nbTranslate": {
   "displayLangs": [
    "*"
   ],
   "hotkey": "alt-t",
   "langInMainMenu": true,
   "sourceLang": "en",
   "targetLang": "fr",
   "useGoogleTranslate": true
  },
  "toc": {
   "base_numbering": 1,
   "nav_menu": {},
   "number_sections": true,
   "sideBar": true,
   "skip_h1_title": false,
   "title_cell": "Table of Contents",
   "title_sidebar": "Contents",
   "toc_cell": false,
   "toc_position": {},
   "toc_section_display": true,
   "toc_window_display": false
  },
  "varInspector": {
   "cols": {
    "lenName": 16,
    "lenType": 16,
    "lenVar": 40
   },
   "kernels_config": {
    "python": {
     "delete_cmd_postfix": "",
     "delete_cmd_prefix": "del ",
     "library": "var_list.py",
     "varRefreshCmd": "print(var_dic_list())"
    },
    "r": {
     "delete_cmd_postfix": ") ",
     "delete_cmd_prefix": "rm(",
     "library": "var_list.r",
     "varRefreshCmd": "cat(var_dic_list()) "
    }
   },
   "types_to_exclude": [
    "module",
    "function",
    "builtin_function_or_method",
    "instance",
    "_Feature"
   ],
   "window_display": false
  }
 },
 "nbformat": 4,
 "nbformat_minor": 5
}
