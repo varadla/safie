{
 "cells": [
  {
   "cell_type": "markdown",
   "metadata": {},
   "source": [
    "bır kenarı 5 dıger kenarı 12 0lan dık ucgenın hıpotenusunu bulan python kodunu yazın"
   ]
  },
  {
   "cell_type": "code",
   "execution_count": null,
   "metadata": {},
   "outputs": [],
   "source": []
  },
  {
   "cell_type": "code",
   "execution_count": 1,
   "metadata": {},
   "outputs": [
    {
     "name": "stdout",
     "output_type": "stream",
     "text": [
      "bir kenari 5 bir kenari  12 olan ucgenin hipotenusu: 13.0\n"
     ]
    }
   ],
   "source": [
    "kenar_1 = 5\n",
    "kenar_2 = 12\n",
    "hypo =(kenar_1 ** 2  + kenar_2 ** 2) ** 0.5\n",
    "print(\"bir kenari 5 bir kenari  12 olan ucgenin hipotenusu:\", hypo)"
   ]
  },
  {
   "cell_type": "markdown",
   "metadata": {},
   "source": [
    " listenin en kucuk ve en buyukliste_1 = [4,5,6,9,85,23,65,47,32,91] elemanini min ve max fonksiyonu kulanmadan bulun. sort fonk da kullanmayin."
   ]
  },
  {
   "cell_type": "code",
   "execution_count": 9,
   "metadata": {},
   "outputs": [],
   "source": [
    "liste_1 = [4,5,6,9,85,23,65,47,32,91]"
   ]
  },
  {
   "cell_type": "code",
   "execution_count": 12,
   "metadata": {},
   "outputs": [
    {
     "name": "stdout",
     "output_type": "stream",
     "text": [
      "4\n"
     ]
    }
   ],
   "source": [
    "liste_1 = [4,5,6,9,85,23,65,47,32,91]\n",
    "x = 0\n",
    "min_sayi = liste_1[0]\n",
    "while x < len(liste_1):\n",
    "    if min_sayi > liste_1[x]:\n",
    "     min_sayi = liste_1[x]\n",
    "    x += 1\n",
    "print(min_sayi)\n",
    "    "
   ]
  },
  {
   "cell_type": "code",
   "execution_count": 13,
   "metadata": {},
   "outputs": [
    {
     "name": "stdout",
     "output_type": "stream",
     "text": [
      "91\n"
     ]
    }
   ],
   "source": [
    "liste_1 = [4,5,6,9,85,23,65,47,32,91]\n",
    "x = 0\n",
    "max_sayi = liste_1[0]\n",
    "while x < len(liste_1):\n",
    "    if max_sayi < liste_1[x]:\n",
    "     max_sayi = liste_1[x]\n",
    "    x += 1\n",
    "print(max_sayi)"
   ]
  },
  {
   "cell_type": "code",
   "execution_count": 15,
   "metadata": {},
   "outputs": [
    {
     "name": "stdout",
     "output_type": "stream",
     "text": [
      "4 91\n"
     ]
    }
   ],
   "source": [
    "liste_1 = [4,5,6,9,85,23,65,47,32,91]\n",
    "x = 0\n",
    "min_sayi = liste_1[5]\n",
    "max_sayi = liste_1[5]\n",
    "while x < len(liste_1):\n",
    "    if min_sayi > liste_1[x]:\n",
    "     min_sayi = liste_1[x]\n",
    "    if max_sayi < liste_1[x]:\n",
    "     max_sayi =liste_1[x]\n",
    "    x += 1\n",
    "print(min_sayi, max_sayi)"
   ]
  },
  {
   "cell_type": "markdown",
   "metadata": {},
   "source": [
    "Odev1: Kullanicidan 1(dahil) ve 9(dahil)arasinda bir sayi isteyin.bu sayini carpim tablosunu olusturun."
   ]
  },
  {
   "cell_type": "code",
   "execution_count": 2,
   "metadata": {},
   "outputs": [
    {
     "name": "stdout",
     "output_type": "stream",
     "text": [
      "5 x 1 = 5\n",
      "5 x 2 = 10\n",
      "5 x 3 = 15\n",
      "5 x 4 = 20\n",
      "5 x 5 = 25\n",
      "5 x 6 = 30\n",
      "5 x 7 = 35\n",
      "5 x 8 = 40\n",
      "5 x 9 = 45\n"
     ]
    }
   ],
   "source": [
    "sayi = int(input(\"1 ile 9 dahil aralikta bir sayi giriniz\"))\n",
    "for i in range(1,10):\n",
    "    print(f\"{sayi} x {i} = {sayi * i}\")"
   ]
  },
  {
   "cell_type": "markdown",
   "metadata": {},
   "source": [
    "Odev2: Kullanicidan 1(dahil) ve 9(dahil)arasinda bir sayi isteyin.bu sayini carpim tablosunu olusturun.kullanici bu araliktan farkli bir degergirdiyse tekrar dogru girmesini isteyin."
   ]
  },
  {
   "cell_type": "code",
   "execution_count": 12,
   "metadata": {},
   "outputs": [
    {
     "name": "stdout",
     "output_type": "stream",
     "text": [
      "8 x 0 = 0\n",
      "8 x 1 = 8\n",
      "8 x 2 = 16\n",
      "8 x 3 = 24\n",
      "8 x 4 = 32\n",
      "8 x 5 = 40\n",
      "8 x 6 = 48\n",
      "8 x 7 = 56\n",
      "8 x 8 = 64\n",
      "8 x 9 = 72\n",
      "8 x 10 = 80\n"
     ]
    }
   ],
   "source": [
    "sayi =sayi = int(input(\"1 ile 9 dahil aralikta bir sayi giriniz\"))\n",
    "sonuc = []\n",
    "\n",
    "if 1 <= sayi <= 9:\n",
    "        for i in range(0,11):\n",
    "            print(f\"{sayi} x {i} = {sayi * i}\")\n",
    "        \n",
    "else:\n",
    "        print(f\"{sayi}: Degeri 1 ve 9 arasinda giriniz\")\n",
    "    "
   ]
  },
  {
   "cell_type": "code",
   "execution_count": null,
   "metadata": {},
   "outputs": [],
   "source": []
  }
 ],
 "metadata": {
  "kernelspec": {
   "display_name": "Python 3",
   "language": "python",
   "name": "python3"
  },
  "language_info": {
   "codemirror_mode": {
    "name": "ipython",
    "version": 3
   },
   "file_extension": ".py",
   "mimetype": "text/x-python",
   "name": "python",
   "nbconvert_exporter": "python",
   "pygments_lexer": "ipython3",
   "version": "3.11.0"
  }
 },
 "nbformat": 4,
 "nbformat_minor": 2
}
